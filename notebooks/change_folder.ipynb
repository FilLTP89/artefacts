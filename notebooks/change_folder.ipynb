{
 "cells": [
  {
   "cell_type": "code",
   "execution_count": 1,
   "metadata": {},
   "outputs": [],
   "source": [
    "\n",
    "\n",
    "import os\n",
    "\n",
    "datapath = \"/home/gabrielidis/These/medical_project/artefacts/results/expriment_1/big_endian/acquisition_1/\""
   ]
  },
  {
   "cell_type": "code",
   "execution_count": 8,
   "metadata": {},
   "outputs": [
    {
     "name": "stdout",
     "output_type": "stream",
     "text": [
      "/home/gabrielidis/These/medical_project/artefacts/results/expriment_1/big_endian/acquisition_1/predicted\n",
      "/home/gabrielidis/These/medical_project/artefacts/results/expriment_1/big_endian/acquisition_1/predicted/predicted\n"
     ]
    },
    {
     "ename": "OSError",
     "evalue": "[Errno 22] Invalid argument: '/home/gabrielidis/These/medical_project/artefacts/results/expriment_1/big_endian/acquisition_1/predicted' -> '/home/gabrielidis/These/medical_project/artefacts/results/expriment_1/big_endian/acquisition_1/predicted/predicted'",
     "output_type": "error",
     "traceback": [
      "\u001b[0;31m---------------------------------------------------------------------------\u001b[0m",
      "\u001b[0;31mOSError\u001b[0m                                   Traceback (most recent call last)",
      "Cell \u001b[0;32mIn[8], line 6\u001b[0m\n\u001b[1;32m      4\u001b[0m     \u001b[39mprint\u001b[39m(name)\n\u001b[1;32m      5\u001b[0m     \u001b[39mprint\u001b[39m(datapath \u001b[39m+\u001b[39m \u001b[39m\"\u001b[39m\u001b[39mpredicted/\u001b[39m\u001b[39m\"\u001b[39m \u001b[39m+\u001b[39m file)\n\u001b[0;32m----> 6\u001b[0m     os\u001b[39m.\u001b[39;49mrename(name, datapath \u001b[39m+\u001b[39;49m \u001b[39m\"\u001b[39;49m\u001b[39mpredicted/\u001b[39;49m\u001b[39m\"\u001b[39;49m \u001b[39m+\u001b[39;49m file)\n\u001b[1;32m      7\u001b[0m \u001b[39mif\u001b[39;00m \u001b[39m\"\u001b[39m\u001b[39mground_truth\u001b[39m\u001b[39m\"\u001b[39m \u001b[39min\u001b[39;00m name:\n\u001b[1;32m      8\u001b[0m     os\u001b[39m.\u001b[39mrename(name, datapath \u001b[39m+\u001b[39m \u001b[39m\"\u001b[39m\u001b[39mground_truth/\u001b[39m\u001b[39m\"\u001b[39m \u001b[39m+\u001b[39m file)\n",
      "\u001b[0;31mOSError\u001b[0m: [Errno 22] Invalid argument: '/home/gabrielidis/These/medical_project/artefacts/results/expriment_1/big_endian/acquisition_1/predicted' -> '/home/gabrielidis/These/medical_project/artefacts/results/expriment_1/big_endian/acquisition_1/predicted/predicted'"
     ]
    }
   ],
   "source": [
    "for file in os.listdir(datapath):\n",
    "    name = datapath + file\n",
    "    if \"predicted\" in name:\n",
    "        print(name)\n",
    "        print(datapath + \"predicted/\" + file)\n",
    "        os.rename(name, datapath + \"predicted/\" + file)\n",
    "    if \"ground_truth\" in name:\n",
    "        os.rename(name, datapath + \"ground_truth/\" + file)\n",
    "    if \"original\" in name:\n",
    "        os.rename(name, datapath + \"original/\" + file)"
   ]
  }
 ],
 "metadata": {
  "kernelspec": {
   "display_name": "las",
   "language": "python",
   "name": "python3"
  },
  "language_info": {
   "codemirror_mode": {
    "name": "ipython",
    "version": 3
   },
   "file_extension": ".py",
   "mimetype": "text/x-python",
   "name": "python",
   "nbconvert_exporter": "python",
   "pygments_lexer": "ipython3",
   "version": "3.9.16"
  },
  "orig_nbformat": 4
 },
 "nbformat": 4,
 "nbformat_minor": 2
}
