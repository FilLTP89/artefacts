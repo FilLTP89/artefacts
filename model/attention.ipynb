{
 "cells": [
  {
   "cell_type": "code",
   "execution_count": 2,
   "metadata": {},
   "outputs": [],
   "source": [
    "import tensorflow as tf\n",
    "import tensorflow.keras.layers as kl"
   ]
  },
  {
   "cell_type": "code",
   "execution_count": 8,
   "metadata": {},
   "outputs": [],
   "source": [
    "class SelfAttention(tf.keras.layers.Layer):\n",
    "    def __init__(self, channels, **kwargs):\n",
    "        super(SelfAttention, self).__init__(**kwargs)\n",
    "        self.W_gate = tf.keras.Sequential(\n",
    "            [ kl.Conv2D(channels, 1, 1, padding=\"same\"), \n",
    "             kl.BatchNormalization()]\n",
    "        )\n",
    "        self.W_x = tf.keras.Sequential(\n",
    "            [ kl.Conv2D(channels, 1, 1, padding=\"same\"),\n",
    "                kl.BatchNormalization()]\n",
    "        )\n",
    "        self.phi = tf.keras.Sequential(\n",
    "            [ kl.Conv2D(channels, 1, 1, padding=\"same\"),\n",
    "                kl.BatchNormalization()]\n",
    "        )\n",
    "\n",
    "        self.attention = kl.Attention()\n",
    "\n",
    "    def call(self, x, g ):\n",
    "        g = self.W_gate(g)\n",
    "        x1 = self.W_x(x)\n",
    "        phi = g + x1\n",
    "        phi = kl.Activation(\"relu\")(phi)\n",
    "        phi = self.phi(phi)\n",
    "        phi = kl.Activation(\"sigmoid\")(phi)\n",
    "\n",
    "        phi = self.attention([x, phi])\n",
    "        return phi * x\n"
   ]
  },
  {
   "cell_type": "code",
   "execution_count": 10,
   "metadata": {},
   "outputs": [
    {
     "data": {
      "text/plain": [
       "TensorShape([1, 32, 32, 64])"
      ]
     },
     "execution_count": 10,
     "metadata": {},
     "output_type": "execute_result"
    }
   ],
   "source": [
    "layer = SelfAttention(64)\n",
    "\n",
    "x = tf.random.normal((1, 32, 32, 12))\n",
    "g = tf.random.normal((1, 32, 32, 12))\n",
    "\n",
    "layer(x, g).shape"
   ]
  }
 ],
 "metadata": {
  "kernelspec": {
   "display_name": "artefact",
   "language": "python",
   "name": "python3"
  },
  "language_info": {
   "codemirror_mode": {
    "name": "ipython",
    "version": 3
   },
   "file_extension": ".py",
   "mimetype": "text/x-python",
   "name": "python",
   "nbconvert_exporter": "python",
   "pygments_lexer": "ipython3",
   "version": "3.9.15"
  },
  "orig_nbformat": 4
 },
 "nbformat": 4,
 "nbformat_minor": 2
}
