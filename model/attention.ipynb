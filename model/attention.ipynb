{
 "cells": [
  {
   "cell_type": "code",
   "execution_count": 2,
   "metadata": {},
   "outputs": [
    {
     "name": "stderr",
     "output_type": "stream",
     "text": [
      "2023-09-16 16:11:21.890613: I tensorflow/core/util/port.cc:110] oneDNN custom operations are on. You may see slightly different numerical results due to floating-point round-off errors from different computation orders. To turn them off, set the environment variable `TF_ENABLE_ONEDNN_OPTS=0`.\n",
      "2023-09-16 16:11:21.892276: I tensorflow/tsl/cuda/cudart_stub.cc:28] Could not find cuda drivers on your machine, GPU will not be used.\n",
      "2023-09-16 16:11:21.922813: I tensorflow/tsl/cuda/cudart_stub.cc:28] Could not find cuda drivers on your machine, GPU will not be used.\n",
      "2023-09-16 16:11:21.923656: I tensorflow/core/platform/cpu_feature_guard.cc:182] This TensorFlow binary is optimized to use available CPU instructions in performance-critical operations.\n",
      "To enable the following instructions: AVX2 AVX_VNNI FMA, in other operations, rebuild TensorFlow with the appropriate compiler flags.\n",
      "2023-09-16 16:11:22.381930: W tensorflow/compiler/tf2tensorrt/utils/py_utils.cc:38] TF-TRT Warning: Could not find TensorRT\n"
     ]
    }
   ],
   "source": [
    "import tensorflow as tf\n",
    "import tensorflow.keras.layers as kl"
   ]
  },
  {
   "cell_type": "code",
   "execution_count": 3,
   "metadata": {},
   "outputs": [],
   "source": [
    "class SelfAttention(tf.keras.layers.Layer):\n",
    "    def __init__(self, channels, **kwargs):\n",
    "        super(SelfAttention, self).__init__(**kwargs)\n",
    "        self.W_gate = tf.keras.Sequential(\n",
    "            [ kl.Conv2D(channels, 1, 1, padding=\"same\"), \n",
    "             kl.BatchNormalization()]\n",
    "        )\n",
    "        self.W_x = tf.keras.Sequential(\n",
    "            [ kl.Conv2D(channels, 1, 1, padding=\"same\"),\n",
    "                kl.BatchNormalization()]\n",
    "        )\n",
    "        self.phi = tf.keras.Sequential(\n",
    "            [ kl.Conv2D(channels, 1, 1, padding=\"same\"),\n",
    "                kl.BatchNormalization()]\n",
    "        )\n",
    "\n",
    "        self.attention = kl.Attention()\n",
    "\n",
    "    def call(self, x, g ):\n",
    "        g = self.W_gate(g)\n",
    "        x1 = self.W_x(x)\n",
    "        phi = g + x1\n",
    "        phi = kl.Activation(\"relu\")(phi)\n",
    "        phi = self.phi(phi)\n",
    "        phi = kl.Activation(\"sigmoid\")(phi)\n",
    "\n",
    "        phi = self.attention([x, phi])\n",
    "        return phi * x\n"
   ]
  },
  {
   "cell_type": "code",
   "execution_count": 5,
   "metadata": {},
   "outputs": [
    {
     "data": {
      "text/plain": [
       "TensorShape([1, 32, 32, 64])"
      ]
     },
     "execution_count": 5,
     "metadata": {},
     "output_type": "execute_result"
    }
   ],
   "source": [
    "layer = SelfAttention(64)\n",
    "\n",
    "x = tf.random.normal((1, 32, 32, 64))\n",
    "g = tf.random.normal((1, 32, 32, 12))\n",
    "\n",
    "layer(x, g).shape"
   ]
  }
 ],
 "metadata": {
  "kernelspec": {
   "display_name": "artefact",
   "language": "python",
   "name": "python3"
  },
  "language_info": {
   "codemirror_mode": {
    "name": "ipython",
    "version": 3
   },
   "file_extension": ".py",
   "mimetype": "text/x-python",
   "name": "python",
   "nbconvert_exporter": "python",
   "pygments_lexer": "ipython3",
   "version": "3.9.15"
  },
  "orig_nbformat": 4
 },
 "nbformat": 4,
 "nbformat_minor": 2
}
