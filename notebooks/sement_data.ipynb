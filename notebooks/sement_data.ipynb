{
 "cells": [
  {
   "cell_type": "code",
   "execution_count": 1,
   "metadata": {},
   "outputs": [],
   "source": [
    "import sys\n",
    "import pydicom as dicom\n",
    "import random\n",
    "import matplotlib.pyplot as plt\n",
    "from PIL import Image\n",
    "data_path=\"../data/Segment/1/\""
   ]
  },
  {
   "cell_type": "code",
   "execution_count": 2,
   "metadata": {},
   "outputs": [
    {
     "ename": "FileNotFoundError",
     "evalue": "[Errno 2] No such file or directory: '/home/gabrielidis/These/medical_project/artefacts/data/Segment/1/original/dcm/ie1705794_p406.i180066.dcm'",
     "output_type": "error",
     "traceback": [
      "\u001b[0;31m---------------------------------------------------------------------------\u001b[0m",
      "\u001b[0;31mFileNotFoundError\u001b[0m                         Traceback (most recent call last)",
      "\u001b[1;32m/home/gabrielidis/These/medical_project/artefacts/notebooks/sement_data.ipynb Cell 2\u001b[0m line \u001b[0;36m1\n\u001b[0;32m----> <a href='vscode-notebook-cell:/home/gabrielidis/These/medical_project/artefacts/notebooks/sement_data.ipynb#W1sZmlsZQ%3D%3D?line=0'>1</a>\u001b[0m image \u001b[39m=\u001b[39m dicom\u001b[39m.\u001b[39;49mdcmread(\u001b[39m\"\u001b[39;49m\u001b[39m/home/gabrielidis/These/medical_project/artefacts/data/Segment/1/original/dcm/ie1705794_p406.i180066.dcm\u001b[39;49m\u001b[39m\"\u001b[39;49m)\u001b[39m.\u001b[39mpixel_array\n\u001b[1;32m      <a href='vscode-notebook-cell:/home/gabrielidis/These/medical_project/artefacts/notebooks/sement_data.ipynb#W1sZmlsZQ%3D%3D?line=1'>2</a>\u001b[0m image\u001b[39m.\u001b[39mshape\n\u001b[1;32m      <a href='vscode-notebook-cell:/home/gabrielidis/These/medical_project/artefacts/notebooks/sement_data.ipynb#W1sZmlsZQ%3D%3D?line=2'>3</a>\u001b[0m \u001b[39m#plt.imshow(image,cmap= \"gray\")\u001b[39;00m\n",
      "File \u001b[0;32m~/miniconda3/envs/las/lib/python3.9/site-packages/pydicom/filereader.py:993\u001b[0m, in \u001b[0;36mdcmread\u001b[0;34m(fp, defer_size, stop_before_pixels, force, specific_tags)\u001b[0m\n\u001b[1;32m    991\u001b[0m     caller_owns_file \u001b[39m=\u001b[39m \u001b[39mFalse\u001b[39;00m\n\u001b[1;32m    992\u001b[0m     logger\u001b[39m.\u001b[39mdebug(\u001b[39m\"\u001b[39m\u001b[39mReading file \u001b[39m\u001b[39m'\u001b[39m\u001b[39m{0}\u001b[39;00m\u001b[39m'\u001b[39m\u001b[39m\"\u001b[39m\u001b[39m.\u001b[39mformat(fp))\n\u001b[0;32m--> 993\u001b[0m     fp \u001b[39m=\u001b[39m \u001b[39mopen\u001b[39;49m(fp, \u001b[39m'\u001b[39;49m\u001b[39mrb\u001b[39;49m\u001b[39m'\u001b[39;49m)\n\u001b[1;32m    994\u001b[0m \u001b[39melif\u001b[39;00m fp \u001b[39mis\u001b[39;00m \u001b[39mNone\u001b[39;00m \u001b[39mor\u001b[39;00m \u001b[39mnot\u001b[39;00m \u001b[39mhasattr\u001b[39m(fp, \u001b[39m\"\u001b[39m\u001b[39mread\u001b[39m\u001b[39m\"\u001b[39m) \u001b[39mor\u001b[39;00m \u001b[39mnot\u001b[39;00m \u001b[39mhasattr\u001b[39m(fp, \u001b[39m\"\u001b[39m\u001b[39mseek\u001b[39m\u001b[39m\"\u001b[39m):\n\u001b[1;32m    995\u001b[0m     \u001b[39mraise\u001b[39;00m \u001b[39mTypeError\u001b[39;00m(\u001b[39m\"\u001b[39m\u001b[39mdcmread: Expected a file path or a file-like, \u001b[39m\u001b[39m\"\u001b[39m\n\u001b[1;32m    996\u001b[0m                     \u001b[39m\"\u001b[39m\u001b[39mbut got \u001b[39m\u001b[39m\"\u001b[39m \u001b[39m+\u001b[39m \u001b[39mtype\u001b[39m(fp)\u001b[39m.\u001b[39m\u001b[39m__name__\u001b[39m)\n",
      "\u001b[0;31mFileNotFoundError\u001b[0m: [Errno 2] No such file or directory: '/home/gabrielidis/These/medical_project/artefacts/data/Segment/1/original/dcm/ie1705794_p406.i180066.dcm'"
     ]
    }
   ],
   "source": [
    "image = dicom.dcmread(\"/home/gabrielidis/These/medical_project/artefacts/data/Segment/1/original/dcm/ie1705794_p406.i180066.dcm\").pixel_array\n",
    "image.shape\n",
    "#plt.imshow(image,cmap= \"gray\")"
   ]
  },
  {
   "cell_type": "code",
   "execution_count": 22,
   "metadata": {},
   "outputs": [],
   "source": [
    "mask_1 = Image.open(\"/home/gabrielidis/These/medical_project/artefacts/data/Segment/1/segmentacao/1/unnamed.0066.tif\")\n",
    "mask_2 = Image.open(\"/home/gabrielidis/These/medical_project/artefacts/data/Segment/4/segmentacao/2/unnamed.0035.tif\")"
   ]
  },
  {
   "cell_type": "code",
   "execution_count": 7,
   "metadata": {},
   "outputs": [],
   "source": [
    "import numpy as np"
   ]
  },
  {
   "cell_type": "code",
   "execution_count": 12,
   "metadata": {},
   "outputs": [],
   "source": [
    "mash = Image.open(\"/home/gabrielidis/These/medical_project/artefacts/data/mask/3/unnamed.0704.tif\")"
   ]
  },
  {
   "cell_type": "code",
   "execution_count": 13,
   "metadata": {},
   "outputs": [
    {
     "name": "stderr",
     "output_type": "stream",
     "text": [
      "/snap/core20/current/lib/x86_64-linux-gnu/libstdc++.so.6: version `GLIBCXX_3.4.29' not found (required by /lib/x86_64-linux-gnu/libproxy.so.1)\n",
      "Failed to load module: /home/gabrielidis/snap/code/common/.cache/gio-modules/libgiolibproxy.so\n"
     ]
    },
    {
     "data": {
      "text/plain": [
       "(1324, 1324, 3)"
      ]
     },
     "execution_count": 13,
     "metadata": {},
     "output_type": "execute_result"
    }
   ],
   "source": [
    "mash.show()\n",
    "array = np.array(mash)\n",
    "array.shape"
   ]
  }
 ],
 "metadata": {
  "kernelspec": {
   "display_name": "las",
   "language": "python",
   "name": "python3"
  },
  "language_info": {
   "codemirror_mode": {
    "name": "ipython",
    "version": 3
   },
   "file_extension": ".py",
   "mimetype": "text/x-python",
   "name": "python",
   "nbconvert_exporter": "python",
   "pygments_lexer": "ipython3",
   "version": "3.9.16"
  },
  "orig_nbformat": 4
 },
 "nbformat": 4,
 "nbformat_minor": 2
}
