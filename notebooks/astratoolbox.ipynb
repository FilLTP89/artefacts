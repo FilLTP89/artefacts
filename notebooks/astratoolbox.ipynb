{
 "cells": [
  {
   "cell_type": "code",
   "execution_count": 1,
   "metadata": {},
   "outputs": [
    {
     "ename": "ModuleNotFoundError",
     "evalue": "No module named 'tigre'",
     "output_type": "error",
     "traceback": [
      "\u001b[0;31m---------------------------------------------------------------------------\u001b[0m",
      "\u001b[0;31mModuleNotFoundError\u001b[0m                       Traceback (most recent call last)",
      "Cell \u001b[0;32mIn[1], line 5\u001b[0m\n\u001b[1;32m      2\u001b[0m \u001b[39mfrom\u001b[39;00m \u001b[39m__future__\u001b[39;00m \u001b[39mimport\u001b[39;00m print_function\n\u001b[1;32m      4\u001b[0m \u001b[39mimport\u001b[39;00m \u001b[39mnumpy\u001b[39;00m \u001b[39mas\u001b[39;00m \u001b[39mnp\u001b[39;00m\n\u001b[0;32m----> 5\u001b[0m \u001b[39mimport\u001b[39;00m \u001b[39mtigre\u001b[39;00m\n\u001b[1;32m      6\u001b[0m \u001b[39mimport\u001b[39;00m \u001b[39mtigre\u001b[39;00m\u001b[39m.\u001b[39;00m\u001b[39malgorithms\u001b[39;00m \u001b[39mas\u001b[39;00m \u001b[39malgs\u001b[39;00m\n\u001b[1;32m      7\u001b[0m \u001b[39mfrom\u001b[39;00m \u001b[39mtigre\u001b[39;00m\u001b[39m.\u001b[39;00m\u001b[39mutilities\u001b[39;00m \u001b[39mimport\u001b[39;00m sample_loader\n",
      "\u001b[0;31mModuleNotFoundError\u001b[0m: No module named 'tigre'"
     ]
    }
   ],
   "source": [
    "\n",
    "from __future__ import division\n",
    "from __future__ import print_function\n",
    "\n",
    "import numpy as np\n",
    "import tigre\n",
    "import tigre.algorithms as algs\n",
    "from tigre.utilities import sample_loader\n",
    "from tigre.utilities.Measure_Quality import Measure_Quality\n",
    "import tigre.utilities.gpu as gpu\n",
    "import matplotlib.pyplot as plt"
   ]
  },
  {
   "cell_type": "code",
   "execution_count": null,
   "metadata": {},
   "outputs": [],
   "source": [
    "\n",
    "\n",
    "### This is just a basic example of very few TIGRE functionallity.\n",
    "# We hihgly recomend checking the Demos folder, where most if not all features of tigre are demoed.\n",
    "\n",
    "\n",
    "\n",
    "# Geometry\n",
    "# geo1 = tigre.geometry(mode='cone', high_resolution=False, default=True)\n",
    "geo = tigre.geometry(mode=\"cone\", nVoxel=np.array([256, 256, 256]), default=True)\n",
    "geo.dDetector = np.array([0.8, 0.8]) * 2  # size of each pixel            (mm)\n",
    "geo.sDetector = geo.dDetector * geo.nDetector\n",
    "# print(geo)\n",
    "\n",
    "nangles = 100\n",
    "angles = np.linspace(0, 2 * np.pi, nangles, endpoint=False, dtype=np.float32)\n",
    "\n",
    "# Prepare projection data\n",
    "head = sample_loader.load_head_phantom(geo.nVoxel)\n",
    "proj = tigre.Ax(head, geo, angles,)"
   ]
  }
 ],
 "metadata": {
  "kernelspec": {
   "display_name": "artefact",
   "language": "python",
   "name": "python3"
  },
  "language_info": {
   "codemirror_mode": {
    "name": "ipython",
    "version": 3
   },
   "file_extension": ".py",
   "mimetype": "text/x-python",
   "name": "python",
   "nbconvert_exporter": "python",
   "pygments_lexer": "ipython3",
   "version": "3.9.15"
  },
  "orig_nbformat": 4,
  "vscode": {
   "interpreter": {
    "hash": "54fa7a49080bc8ac680f82d94a830c32d647e56a02977aefaa365311eb0328b3"
   }
  }
 },
 "nbformat": 4,
 "nbformat_minor": 2
}
