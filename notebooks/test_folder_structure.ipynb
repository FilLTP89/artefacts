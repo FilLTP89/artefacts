{
 "cells": [
  {
   "cell_type": "code",
   "execution_count": 49,
   "metadata": {},
   "outputs": [],
   "source": [
    "import glob\n",
    "import os\n",
    "import re"
   ]
  },
  {
   "cell_type": "code",
   "execution_count": 2,
   "metadata": {},
   "outputs": [],
   "source": [
    "path = \"../data/\""
   ]
  },
  {
   "cell_type": "code",
   "execution_count": 50,
   "metadata": {},
   "outputs": [],
   "source": [
    "no_metal_folder = [sorted(\n",
    "            glob.glob(os.path.join(path, \"No_metal/acquisition_\"+str(i) + \"/*\")),\n",
    "            key=lambda x: [int(c) if c.isdigit() else c for c in re.split(r\"(\\d+)\", x)],\n",
    "        ) for i in range(11)]\n",
    "high_metal_folder = [sorted(\n",
    "            glob.glob(os.path.join(path, \"High_metal/acquisition_\"+str(i) + \"/*\")),\n",
    "            key=lambda x: [int(c) if c.isdigit() else c for c in re.split(r\"(\\d+)\", x)],\n",
    "        ) for i in range(11)]\n",
    "low_metal_folder = [sorted(\n",
    "            glob.glob(os.path.join(path, \"Low_metal/acquisition_\"+str(i) + \"/*\")),\n",
    "            key=lambda x: [int(c) if c.isdigit() else c for c in re.split(r\"(\\d+)\", x)],\n",
    "        ) for i in range(11)]\n"
   ]
  },
  {
   "cell_type": "code",
   "execution_count": 52,
   "metadata": {},
   "outputs": [
    {
     "name": "stdout",
     "output_type": "stream",
     "text": [
      "0 871 871 871\n",
      "1 890 890 890\n",
      "2 890 890 890\n",
      "3 890 890 890\n",
      "4 890 890 890\n",
      "5 890 890 890\n",
      "6 890 890 890\n",
      "7 890 890 890\n",
      "8 890 890 890\n",
      "9 890 890 890\n",
      "10 890 890 890\n"
     ]
    }
   ],
   "source": [
    "for i in range(11):\n",
    "    print(i,len(no_metal_folder[i]),len(high_metal_folder[i]),len(low_metal_folder[i]))"
   ]
  },
  {
   "cell_type": "code",
   "execution_count": 53,
   "metadata": {},
   "outputs": [
    {
     "data": {
      "text/plain": [
       "(890, 890, 890)"
      ]
     },
     "execution_count": 53,
     "metadata": {},
     "output_type": "execute_result"
    }
   ],
   "source": [
    "len(no_metal_folder[9]),len(high_metal_folder[9]),len(low_metal_folder[9])"
   ]
  },
  {
   "cell_type": "code",
   "execution_count": 56,
   "metadata": {},
   "outputs": [],
   "source": [
    "for i in range(11):\n",
    "    assert len(no_metal_folder[i]) == len(high_metal_folder[i]) == len(low_metal_folder[i])\n"
   ]
  },
  {
   "cell_type": "code",
   "execution_count": 40,
   "metadata": {},
   "outputs": [
    {
     "name": "stdout",
     "output_type": "stream",
     "text": [
      "IE1705794_P406.i180167(1).raw\n",
      "IE1705794_P406.i180166.raw\n",
      "IE1705794_P406.i180166.raw\n"
     ]
    }
   ],
   "source": [
    "print(no_metal_folder[9][168].split(\"/\")[-1])\n",
    "print(high_metal_folder[9][166].split(\"/\")[-1])\n",
    "print(low_metal_folder[9][166].split(\"/\")[-1])"
   ]
  },
  {
   "cell_type": "code",
   "execution_count": 45,
   "metadata": {},
   "outputs": [
    {
     "name": "stdout",
     "output_type": "stream",
     "text": [
      "../data/No_metal/acquisition_9/IE1705794_P406.i180167.raw\n"
     ]
    }
   ],
   "source": [
    "print(no_metal_folder[9][169])"
   ]
  },
  {
   "cell_type": "code",
   "execution_count": 48,
   "metadata": {},
   "outputs": [
    {
     "name": "stdout",
     "output_type": "stream",
     "text": [
      "IE1705794_P406.i180166(1).raw\n",
      "IE1705794_P406.i180167(1).raw\n",
      "IE1705794_P406.i180168(1).raw\n",
      "IE1705794_P406.i180169(1).raw\n"
     ]
    }
   ],
   "source": [
    "import os\n",
    "for i in range(len(no_metal_folder[9])):\n",
    "    if \"(1)\" in no_metal_folder[9][i].split(\"/\")[-1]:\n",
    "        print(no_metal_folder[9][i].split(\"/\")[-1])\n"
   ]
  },
  {
   "cell_type": "code",
   "execution_count": 69,
   "metadata": {},
   "outputs": [
    {
     "data": {
      "text/plain": [
       "9771"
      ]
     },
     "execution_count": 69,
     "metadata": {},
     "output_type": "execute_result"
    }
   ],
   "source": [
    "no_metal_list = [item for sublist in no_metal_folder for item in sublist]\n",
    "high_metal_list = [item for sublist in high_metal_folder for item in sublist]\n",
    "low_metal_list = [item for sublist in low_metal_folder for item in sublist]\n",
    "len(no_metal_list)"
   ]
  },
  {
   "cell_type": "code",
   "execution_count": 68,
   "metadata": {},
   "outputs": [],
   "source": [
    "for i in range(len(no_metal_list)):\n",
    "    assert no_metal_list[i].split(\"/\")[-1] == low_metal_list[i].split(\"/\")[-1] == high_metal_list[i].split(\"/\")[-1]"
   ]
  },
  {
   "cell_type": "code",
   "execution_count": 70,
   "metadata": {},
   "outputs": [
    {
     "data": {
      "text/plain": [
       "True"
      ]
     },
     "execution_count": 70,
     "metadata": {},
     "output_type": "execute_result"
    }
   ],
   "source": [
    "test = 2*no_metal_list\n",
    "test[0] == test[len(no_metal_list)]"
   ]
  }
 ],
 "metadata": {
  "kernelspec": {
   "display_name": "artefact",
   "language": "python",
   "name": "python3"
  },
  "language_info": {
   "codemirror_mode": {
    "name": "ipython",
    "version": 3
   },
   "file_extension": ".py",
   "mimetype": "text/x-python",
   "name": "python",
   "nbconvert_exporter": "python",
   "pygments_lexer": "ipython3",
   "version": "3.9.15"
  },
  "orig_nbformat": 4,
  "vscode": {
   "interpreter": {
    "hash": "54fa7a49080bc8ac680f82d94a830c32d647e56a02977aefaa365311eb0328b3"
   }
  }
 },
 "nbformat": 4,
 "nbformat_minor": 2
}
