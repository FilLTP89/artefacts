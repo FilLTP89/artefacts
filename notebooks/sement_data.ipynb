{
 "cells": [
  {
   "cell_type": "code",
   "execution_count": 1,
   "metadata": {},
   "outputs": [],
   "source": [
    "import sys\n",
    "import pydicom as dicom\n",
    "import random\n",
    "import matplotlib.pyplot as plt\n",
    "from PIL import Image\n",
    "data_path=\"../data/Segment/1/\""
   ]
  },
  {
   "cell_type": "code",
   "execution_count": 25,
   "metadata": {},
   "outputs": [
    {
     "data": {
      "text/plain": [
       "(400, 400)"
      ]
     },
     "execution_count": 25,
     "metadata": {},
     "output_type": "execute_result"
    }
   ],
   "source": [
    "image = dicom.dcmread(\"/home/gabrielidis/These/medical_project/artefacts/data/Segment/1/original/dcm/ie1705794_p406.i180066.dcm\").pixel_array\n",
    "image.shape\n",
    "#plt.imshow(image,cmap= \"gray\")"
   ]
  },
  {
   "cell_type": "code",
   "execution_count": 22,
   "metadata": {},
   "outputs": [],
   "source": [
    "mask_1 = Image.open(\"/home/gabrielidis/These/medical_project/artefacts/data/Segment/1/segmentacao/1/unnamed.0066.tif\")\n",
    "mask_2 = Image.open(\"/home/gabrielidis/These/medical_project/artefacts/data/Segment/4/segmentacao/2/unnamed.0035.tif\")"
   ]
  },
  {
   "cell_type": "code",
   "execution_count": 7,
   "metadata": {},
   "outputs": [],
   "source": [
    "import numpy as np"
   ]
  },
  {
   "cell_type": "code",
   "execution_count": 12,
   "metadata": {},
   "outputs": [],
   "source": [
    "mash = Image.open(\"/home/gabrielidis/These/medical_project/artefacts/data/mask/3/unnamed.0704.tif\")"
   ]
  },
  {
   "cell_type": "code",
   "execution_count": 13,
   "metadata": {},
   "outputs": [
    {
     "name": "stderr",
     "output_type": "stream",
     "text": [
      "/snap/core20/current/lib/x86_64-linux-gnu/libstdc++.so.6: version `GLIBCXX_3.4.29' not found (required by /lib/x86_64-linux-gnu/libproxy.so.1)\n",
      "Failed to load module: /home/gabrielidis/snap/code/common/.cache/gio-modules/libgiolibproxy.so\n"
     ]
    },
    {
     "data": {
      "text/plain": [
       "(1324, 1324, 3)"
      ]
     },
     "execution_count": 13,
     "metadata": {},
     "output_type": "execute_result"
    }
   ],
   "source": [
    "mash.show()\n",
    "array = np.array(mash)\n",
    "array.shape"
   ]
  }
 ],
 "metadata": {
  "kernelspec": {
   "display_name": "las",
   "language": "python",
   "name": "python3"
  },
  "language_info": {
   "codemirror_mode": {
    "name": "ipython",
    "version": 3
   },
   "file_extension": ".py",
   "mimetype": "text/x-python",
   "name": "python",
   "nbconvert_exporter": "python",
   "pygments_lexer": "ipython3",
   "version": "3.9.16"
  },
  "orig_nbformat": 4
 },
 "nbformat": 4,
 "nbformat_minor": 2
}
