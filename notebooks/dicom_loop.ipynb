{
 "cells": [
  {
   "cell_type": "code",
   "execution_count": 29,
   "metadata": {},
   "outputs": [],
   "source": [
    "from skimage.transform import radon, iradon\n",
    "import pydicom as dicom\n",
    "import numpy as np\n",
    "import os\n",
    "from glob import glob\n",
    "import re\n",
    "import matplotlib.pyplot as plt"
   ]
  },
  {
   "cell_type": "code",
   "execution_count": 6,
   "metadata": {},
   "outputs": [],
   "source": [
    "path = \"../data/dicom/\""
   ]
  },
  {
   "cell_type": "code",
   "execution_count": 56,
   "metadata": {},
   "outputs": [
    {
     "data": {
      "text/plain": [
       "['../data/dicom/high_metal/acquisition_1/001.dcm',\n",
       " '../data/dicom/high_metal/acquisition_1/002.dcm',\n",
       " '../data/dicom/high_metal/acquisition_1/003.dcm',\n",
       " '../data/dicom/high_metal/acquisition_1/004.dcm',\n",
       " '../data/dicom/high_metal/acquisition_1/005.dcm']"
      ]
     },
     "execution_count": 56,
     "metadata": {},
     "output_type": "execute_result"
    }
   ],
   "source": [
    "high_metal_folder = [\n",
    "            sorted(\n",
    "                glob(\n",
    "                    os.path.join(path, \"high_metal/acquisition_\" + str(i) + \"/*\")\n",
    "                ),\n",
    "                key=lambda x: [\n",
    "                    int(c) if c.isdigit() else c for c in re.split(r\"(\\d+)\", x)\n",
    "                ],\n",
    "            )\n",
    "            for i in range(11)\n",
    "        ]\n",
    "high_metal_folder[1][:5]"
   ]
  },
  {
   "cell_type": "code",
   "execution_count": 66,
   "metadata": {},
   "outputs": [],
   "source": [
    "y = dicom.dcmread(high_metal_folder[5][20]).pixel_array"
   ]
  },
  {
   "cell_type": "code",
   "execution_count": 68,
   "metadata": {},
   "outputs": [
    {
     "name": "stderr",
     "output_type": "stream",
     "text": [
      "/Users/hugo/opt/miniconda3/envs/artefact/lib/python3.9/site-packages/skimage/transform/radon_transform.py:75: UserWarning: Radon transform: image must be zero outside the reconstruction circle\n",
      "  warn('Radon transform: image must be zero outside the '\n"
     ]
    }
   ],
   "source": [
    "theta = np.linspace(0.0, 180.0, max(y.shape), endpoint=False)\n",
    "y = y / max(y.flatten()) * 255\n",
    "sinogram_y = radon(y, theta=theta, circle=True)\n",
    "plt.imshow(sinogram_y, cmap= plt.cm.bone, interpolation=\"nearest\")\n"
   ]
  },
  {
   "cell_type": "code",
   "execution_count": 26,
   "metadata": {},
   "outputs": [
    {
     "data": {
      "text/plain": [
       "array([[0., 0., 0., ..., 0., 0., 0.],\n",
       "       [0., 0., 0., ..., 0., 0., 0.],\n",
       "       [0., 0., 0., ..., 0., 0., 0.],\n",
       "       ...,\n",
       "       [0., 0., 0., ..., 0., 0., 0.],\n",
       "       [0., 0., 0., ..., 0., 0., 0.],\n",
       "       [0., 0., 0., ..., 0., 0., 0.]])"
      ]
     },
     "execution_count": 26,
     "metadata": {},
     "output_type": "execute_result"
    }
   ],
   "source": [
    "back = iradon(sinogram_y, theta=theta, circle=True)\n",
    "back"
   ]
  }
 ],
 "metadata": {
  "kernelspec": {
   "display_name": "artefact",
   "language": "python",
   "name": "python3"
  },
  "language_info": {
   "codemirror_mode": {
    "name": "ipython",
    "version": 3
   },
   "file_extension": ".py",
   "mimetype": "text/x-python",
   "name": "python",
   "nbconvert_exporter": "python",
   "pygments_lexer": "ipython3",
   "version": "3.9.15"
  },
  "orig_nbformat": 4,
  "vscode": {
   "interpreter": {
    "hash": "54fa7a49080bc8ac680f82d94a830c32d647e56a02977aefaa365311eb0328b3"
   }
  }
 },
 "nbformat": 4,
 "nbformat_minor": 2
}
