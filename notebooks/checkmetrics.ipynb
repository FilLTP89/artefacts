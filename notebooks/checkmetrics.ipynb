{
 "cells": [
  {
   "cell_type": "code",
   "execution_count": 1,
   "metadata": {},
   "outputs": [
    {
     "name": "stderr",
     "output_type": "stream",
     "text": [
      "2023-02-15 17:26:47.673567: I tensorflow/core/platform/cpu_feature_guard.cc:193] This TensorFlow binary is optimized with oneAPI Deep Neural Network Library (oneDNN) to use the following CPU instructions in performance-critical operations:  AVX2 FMA\n",
      "To enable them in other operations, rebuild TensorFlow with the appropriate compiler flags.\n"
     ]
    }
   ],
   "source": [
    "import tensorflow as tf"
   ]
  },
  {
   "cell_type": "code",
   "execution_count": 23,
   "metadata": {},
   "outputs": [],
   "source": [
    "def ssim(y_true, y_pred):\n",
    "    return tf.reduce_mean(tf.image.ssim(y_true, y_pred, 2.0)).numpy()\n",
    "\n",
    "def psnr(y_true, y_pred):\n",
    "    return tf.reduce_mean(tf.image.psnr(y_true, y_pred, max_val=2.0)).numpy()\n",
    "\n",
    "def nmi(y_true, y_pred):\n",
    "    return tf.reduce_mean(tf.image.normalized_mutual_information(y_true, y_pred, 2)).numpy()\n",
    "\n",
    "x = tf.random.normal((30, 256, 256, 1))\n",
    "y = tf.random.normal((30, 256, 256, 1))"
   ]
  },
  {
   "cell_type": "code",
   "execution_count": 24,
   "metadata": {},
   "outputs": [
    {
     "name": "stdout",
     "output_type": "stream",
     "text": [
      "1.0\n",
      "inf\n"
     ]
    },
    {
     "ename": "AttributeError",
     "evalue": "module 'tensorflow._api.v2.image' has no attribute 'normalized_mutual_information'",
     "output_type": "error",
     "traceback": [
      "\u001b[0;31m---------------------------------------------------------------------------\u001b[0m",
      "\u001b[0;31mAttributeError\u001b[0m                            Traceback (most recent call last)",
      "Cell \u001b[0;32mIn[24], line 3\u001b[0m\n\u001b[1;32m      1\u001b[0m \u001b[39mprint\u001b[39m(ssim(x, x))\n\u001b[1;32m      2\u001b[0m \u001b[39mprint\u001b[39m(psnr(x, x))\n\u001b[0;32m----> 3\u001b[0m \u001b[39mprint\u001b[39m(nmi(x, x))\n",
      "Cell \u001b[0;32mIn[23], line 8\u001b[0m, in \u001b[0;36mnmi\u001b[0;34m(y_true, y_pred)\u001b[0m\n\u001b[1;32m      7\u001b[0m \u001b[39mdef\u001b[39;00m \u001b[39mnmi\u001b[39m(y_true, y_pred):\n\u001b[0;32m----> 8\u001b[0m     \u001b[39mreturn\u001b[39;00m tf\u001b[39m.\u001b[39mreduce_mean(tf\u001b[39m.\u001b[39;49mimage\u001b[39m.\u001b[39;49mnormalized_mutual_information(y_true, y_pred, \u001b[39m2\u001b[39m))\u001b[39m.\u001b[39mnumpy()\n",
      "\u001b[0;31mAttributeError\u001b[0m: module 'tensorflow._api.v2.image' has no attribute 'normalized_mutual_information'"
     ]
    }
   ],
   "source": [
    "print(ssim(x, x))\n",
    "print(psnr(x, x))"
   ]
  }
 ],
 "metadata": {
  "kernelspec": {
   "display_name": "artefact",
   "language": "python",
   "name": "python3"
  },
  "language_info": {
   "codemirror_mode": {
    "name": "ipython",
    "version": 3
   },
   "file_extension": ".py",
   "mimetype": "text/x-python",
   "name": "python",
   "nbconvert_exporter": "python",
   "pygments_lexer": "ipython3",
   "version": "3.9.15"
  },
  "orig_nbformat": 4,
  "vscode": {
   "interpreter": {
    "hash": "54fa7a49080bc8ac680f82d94a830c32d647e56a02977aefaa365311eb0328b3"
   }
  }
 },
 "nbformat": 4,
 "nbformat_minor": 2
}
