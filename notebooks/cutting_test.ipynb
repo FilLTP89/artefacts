{
 "cells": [
  {
   "cell_type": "code",
   "execution_count": 64,
   "metadata": {},
   "outputs": [],
   "source": [
    "import SimpleITK as sitk\n",
    "import tempfile\n",
    "import os\n",
    "import random\n",
    "from random import randint\n",
    "import numpy as np\n",
    "import matplotlib.pyplot as plt\n",
    "from PIL import Image, ImageEnhance"
   ]
  },
  {
   "cell_type": "code",
   "execution_count": 2,
   "metadata": {},
   "outputs": [],
   "source": [
    "umin=137\n",
    "umax=52578"
   ]
  },
  {
   "cell_type": "code",
   "execution_count": 3,
   "metadata": {},
   "outputs": [],
   "source": [
    "\n",
    "def read_raw(\n",
    "    binary_file_name,\n",
    "    image_size,\n",
    "    sitk_pixel_type = sitk.sitkUInt16,\n",
    "    image_spacing=None,\n",
    "    image_origin=None,\n",
    "    big_endian=False,\n",
    "):\n",
    "    \"\"\"\n",
    "    Read a raw binary scalar image.\n",
    "\n",
    "    Parameters\n",
    "    ----------\n",
    "    binary_file_name (str): Raw, binary image file content.\n",
    "    image_size (tuple like): Size of image (e.g. [2048,2048])\n",
    "    sitk_pixel_type (SimpleITK pixel type: Pixel type of data (e.g.\n",
    "        sitk.sitkUInt16).\n",
    "    image_spacing (tuple like): Optional image spacing, if none given assumed\n",
    "        to be [1]*dim.\n",
    "    image_origin (tuple like): Optional image origin, if none given assumed to\n",
    "        be [0]*dim.\n",
    "    big_endian (bool): Optional byte order indicator, if True big endian, else\n",
    "        little endian.\n",
    "\n",
    "    Returns\n",
    "    -------\n",
    "    SimpleITK image or None if fails.\n",
    "    \"\"\"\n",
    "\n",
    "    pixel_dict = {\n",
    "        sitk.sitkUInt8: \"MET_UCHAR\",\n",
    "        sitk.sitkInt8: \"MET_CHAR\",\n",
    "        sitk.sitkUInt16: \"MET_USHORT\",\n",
    "        sitk.sitkInt16: \"MET_SHORT\",\n",
    "        sitk.sitkUInt32: \"MET_UINT\",\n",
    "        sitk.sitkInt32: \"MET_INT\",\n",
    "        sitk.sitkUInt64: \"MET_ULONG_LONG\",\n",
    "        sitk.sitkInt64: \"MET_LONG_LONG\",\n",
    "        sitk.sitkFloat32: \"MET_FLOAT\",\n",
    "        sitk.sitkFloat64: \"MET_DOUBLE\",\n",
    "    }\n",
    "    direction_cosine = [\n",
    "        \"1 0 0 1\",\n",
    "        \"1 0 0 0 1 0 0 0 1\",\n",
    "        \"1 0 0 0 0 1 0 0 0 0 1 0 0 0 0 1\",\n",
    "    ]\n",
    "    dim = len(image_size)\n",
    "    header = [\n",
    "        \"ObjectType = Image\\n\".encode(),\n",
    "        (f\"NDims = {dim}\\n\").encode(),\n",
    "        (\"DimSize = \" + \" \".join([str(v) for v in image_size]) + \"\\n\").encode(),\n",
    "        (\n",
    "            \"ElementSpacing = \"\n",
    "            + (\n",
    "                \" \".join([str(v) for v in image_spacing])\n",
    "                if image_spacing\n",
    "                else \" \".join([\"1\"] * dim)\n",
    "            )\n",
    "            + \"\\n\"\n",
    "        ).encode(),\n",
    "        (\n",
    "            \"Offset = \"\n",
    "            + (\n",
    "                \" \".join([str(v) for v in image_origin])\n",
    "                if image_origin\n",
    "                else \" \".join([\"0\"] * dim) + \"\\n\"\n",
    "            )\n",
    "        ).encode(),\n",
    "        (\"TransformMatrix = \" + direction_cosine[dim - 2] + \"\\n\").encode(),\n",
    "        (\"ElementType = \" + pixel_dict[sitk_pixel_type] + \"\\n\").encode(),\n",
    "        \"BinaryData = True\\n\".encode(),\n",
    "        (\"BinaryDataByteOrderMSB = \" + str(big_endian) + \"\\n\").encode(),\n",
    "        # ElementDataFile must be the last entry in the header\n",
    "        (\"ElementDataFile = \" + os.path.abspath(binary_file_name) + \"\\n\").encode(),\n",
    "    ]\n",
    "    fp = tempfile.NamedTemporaryFile(suffix=\".mhd\", delete=False)\n",
    "\n",
    "    # Not using the tempfile with a context manager and auto-delete\n",
    "    # because on windows we can't open the file a second time for ReadImage.\n",
    "    fp.writelines(header)\n",
    "    fp.close()\n",
    "    img = sitk.ReadImage(fp.name)\n",
    "    os.remove(fp.name)\n",
    "    return img\n",
    "\n",
    "\n"
   ]
  },
  {
   "cell_type": "code",
   "execution_count": 11,
   "metadata": {},
   "outputs": [
    {
     "data": {
      "text/plain": [
       "([51, 52, 53], [1, 2, 3])"
      ]
     },
     "execution_count": 11,
     "metadata": {},
     "output_type": "execute_result"
    }
   ],
   "source": [
    "a = [i for i in range(1, 100)]\n",
    "\n",
    "a[50:][:3],a[:50][:3]"
   ]
  },
  {
   "cell_type": "code",
   "execution_count": 54,
   "metadata": {},
   "outputs": [
    {
     "ename": "NameError",
     "evalue": "name 'q' is not defined",
     "output_type": "error",
     "traceback": [
      "\u001b[0;31m---------------------------------------------------------------------------\u001b[0m",
      "\u001b[0;31mNameError\u001b[0m                                 Traceback (most recent call last)",
      "Cell \u001b[0;32mIn[54], line 1\u001b[0m\n\u001b[0;32m----> 1\u001b[0m q\u001b[39m.\u001b[39mshape\n",
      "\u001b[0;31mNameError\u001b[0m: name 'q' is not defined"
     ]
    }
   ],
   "source": [
    "q.shape"
   ]
  }
 ],
 "metadata": {
  "kernelspec": {
   "display_name": "artefact",
   "language": "python",
   "name": "python3"
  },
  "language_info": {
   "codemirror_mode": {
    "name": "ipython",
    "version": 3
   },
   "file_extension": ".py",
   "mimetype": "text/x-python",
   "name": "python",
   "nbconvert_exporter": "python",
   "pygments_lexer": "ipython3",
   "version": "3.9.15"
  },
  "orig_nbformat": 4,
  "vscode": {
   "interpreter": {
    "hash": "54fa7a49080bc8ac680f82d94a830c32d647e56a02977aefaa365311eb0328b3"
   }
  }
 },
 "nbformat": 4,
 "nbformat_minor": 2
}
