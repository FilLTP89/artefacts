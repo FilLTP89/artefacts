{
 "cells": [
  {
   "cell_type": "code",
   "execution_count": 1,
   "metadata": {},
   "outputs": [
    {
     "name": "stderr",
     "output_type": "stream",
     "text": [
      "2023-02-15 15:40:24.817177: I tensorflow/core/platform/cpu_feature_guard.cc:193] This TensorFlow binary is optimized with oneAPI Deep Neural Network Library (oneDNN) to use the following CPU instructions in performance-critical operations:  AVX2 FMA\n",
      "To enable them in other operations, rebuild TensorFlow with the appropriate compiler flags.\n"
     ]
    }
   ],
   "source": [
    "import tensorflow as tf\n",
    "import sys, os\n",
    "import matplotlib.pyplot as plt\n",
    "from PIL import Image, ImageEnhance\n",
    "import numpy as np\n",
    "sys.path.append(os.path.abspath(os.path.join('..')))\n",
    "images_path = \"../images/generated_images/MedGAN_results_2/\""
   ]
  },
  {
   "cell_type": "code",
   "execution_count": 11,
   "metadata": {},
   "outputs": [],
   "source": [
    "predicted_images = np.zeros((8, 512, 512,1))\n",
    "ground_truth_images = np.zeros((8, 512, 512,1))\n",
    "for i in range(8):\n",
    "    predicted_images[i]= np.expand_dims(np.array(tf.keras.utils.load_img(images_path + f\"train_batch{0}_sample_{i}_predicted_image.png\",grayscale=True)), axis = -1)\n",
    "    ground_truth_images[i]=np.expand_dims(np.array(tf.keras.utils.load_img(images_path + f\"train_batch{0}_sample_{i}_ground_truth_image.png\",grayscale=True)), axis=-1)"
   ]
  },
  {
   "cell_type": "code",
   "execution_count": 15,
   "metadata": {},
   "outputs": [],
   "source": [
    "MAE = tf.keras.metrics.MeanAbsoluteError()\n",
    "RMSE = tf.keras.metrics.RootMeanSquaredError()\n",
    "def PSNR(y_true, y_pred):\n",
    "    max_pixel = 1.0\n",
    "    return (10.0 * tf.log((max_pixel ** 2) / (tf.mean(tf.square(y_pred - y_true), axis=-1)))) / 2.303"
   ]
  },
  {
   "cell_type": "code",
   "execution_count": 16,
   "metadata": {},
   "outputs": [
    {
     "name": "stdout",
     "output_type": "stream",
     "text": [
      "MAE :  1.2034855\n",
      "RMSE :  2.3920834\n"
     ]
    },
    {
     "ename": "AttributeError",
     "evalue": "module 'tensorflow' has no attribute 'log'",
     "output_type": "error",
     "traceback": [
      "\u001b[0;31m---------------------------------------------------------------------------\u001b[0m",
      "\u001b[0;31mAttributeError\u001b[0m                            Traceback (most recent call last)",
      "Cell \u001b[0;32mIn[16], line 3\u001b[0m\n\u001b[1;32m      1\u001b[0m \u001b[39mprint\u001b[39m(\u001b[39m\"\u001b[39m\u001b[39mMAE : \u001b[39m\u001b[39m\"\u001b[39m, MAE(ground_truth_images, predicted_images)\u001b[39m.\u001b[39mnumpy())\n\u001b[1;32m      2\u001b[0m \u001b[39mprint\u001b[39m(\u001b[39m\"\u001b[39m\u001b[39mRMSE : \u001b[39m\u001b[39m\"\u001b[39m, RMSE(ground_truth_images, predicted_images)\u001b[39m.\u001b[39mnumpy())\n\u001b[0;32m----> 3\u001b[0m \u001b[39mprint\u001b[39m(\u001b[39m\"\u001b[39m\u001b[39mPSNR : \u001b[39m\u001b[39m\"\u001b[39m, PSNR(ground_truth_images, predicted_images)\u001b[39m.\u001b[39mnumpy())\n",
      "Cell \u001b[0;32mIn[15], line 5\u001b[0m, in \u001b[0;36mPSNR\u001b[0;34m(y_true, y_pred)\u001b[0m\n\u001b[1;32m      3\u001b[0m \u001b[39mdef\u001b[39;00m \u001b[39mPSNR\u001b[39m(y_true, y_pred):\n\u001b[1;32m      4\u001b[0m     max_pixel \u001b[39m=\u001b[39m \u001b[39m1.0\u001b[39m\n\u001b[0;32m----> 5\u001b[0m     \u001b[39mreturn\u001b[39;00m (\u001b[39m10.0\u001b[39m \u001b[39m*\u001b[39m tf\u001b[39m.\u001b[39;49mlog((max_pixel \u001b[39m*\u001b[39m\u001b[39m*\u001b[39m \u001b[39m2\u001b[39m) \u001b[39m/\u001b[39m (tf\u001b[39m.\u001b[39mmean(tf\u001b[39m.\u001b[39msquare(y_pred \u001b[39m-\u001b[39m y_true), axis\u001b[39m=\u001b[39m\u001b[39m-\u001b[39m\u001b[39m1\u001b[39m)))) \u001b[39m/\u001b[39m \u001b[39m2.303\u001b[39m\n",
      "\u001b[0;31mAttributeError\u001b[0m: module 'tensorflow' has no attribute 'log'"
     ]
    }
   ],
   "source": [
    "print(\"MAE : \", MAE(ground_truth_images, predicted_images).numpy())\n",
    "print(\"RMSE : \", RMSE(ground_truth_images, predicted_images).numpy())\n",
    "print(\"PSNR : \", PSNR(ground_truth_images, predicted_images).numpy())"
   ]
  }
 ],
 "metadata": {
  "kernelspec": {
   "display_name": "artefact",
   "language": "python",
   "name": "python3"
  },
  "language_info": {
   "codemirror_mode": {
    "name": "ipython",
    "version": 3
   },
   "file_extension": ".py",
   "mimetype": "text/x-python",
   "name": "python",
   "nbconvert_exporter": "python",
   "pygments_lexer": "ipython3",
   "version": "3.9.15"
  },
  "orig_nbformat": 4,
  "vscode": {
   "interpreter": {
    "hash": "54fa7a49080bc8ac680f82d94a830c32d647e56a02977aefaa365311eb0328b3"
   }
  }
 },
 "nbformat": 4,
 "nbformat_minor": 2
}
