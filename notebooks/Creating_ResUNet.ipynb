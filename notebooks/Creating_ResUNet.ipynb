{
 "cells": [
  {
   "cell_type": "code",
   "execution_count": 37,
   "metadata": {},
   "outputs": [],
   "source": [
    "import tensorflow as tf\n",
    "import tensorflow.keras.layers as kl\n",
    "\n",
    "def PSP_Pooling(x, filter):\n",
    "        # the initial input is split in channel (feature) space in 4 equal partitions\n",
    "        output = [x]\n",
    "        dims = x.shape[-1]\n",
    "        split = tf.split(x, 4, axis=-1)\n",
    "        for elem,rate in zip(split,[1,2,4,8]):\n",
    "            elem = kl.MaxPool2D(pool_size = rate, strides = rate)(elem)\n",
    "            elem = kl.UpSampling2D(size = rate)(elem)\n",
    "            elem = kl.Conv2D(filter//4, 1, padding = \"same\")(elem)\n",
    "            output.append(elem)\n",
    "        concat = tf.concat(output, axis = -1)\n",
    "        concat = kl.Conv2D(filter , 1, padding = \"same\")(concat)\n",
    "        return concat"
   ]
  },
  {
   "cell_type": "code",
   "execution_count": 38,
   "metadata": {},
   "outputs": [
    {
     "data": {
      "text/plain": [
       "TensorShape([32, 8, 8, 1024])"
      ]
     },
     "execution_count": 38,
     "metadata": {},
     "output_type": "execute_result"
    }
   ],
   "source": [
    "x = tf.random.uniform((32,8,8,1024))\n",
    "y = PSP_Pooling(x, 1024)\n",
    "y.shape"
   ]
  },
  {
   "cell_type": "code",
   "execution_count": 39,
   "metadata": {},
   "outputs": [
    {
     "name": "stdout",
     "output_type": "stream",
     "text": [
      "(32, 8, 8, 2048)\n"
     ]
    }
   ],
   "source": [
    "x = tf.random.uniform((32,8,8,1024))\n",
    "y = tf.random.uniform((32,8,8,1024))\n",
    "\n",
    "print(tf.concat([x,y], axis = -1).shape)"
   ]
  },
  {
   "cell_type": "code",
   "execution_count": 50,
   "metadata": {},
   "outputs": [
    {
     "data": {
      "text/plain": [
       "TensorShape([32, 256, 256, 32])"
      ]
     },
     "execution_count": 50,
     "metadata": {},
     "output_type": "execute_result"
    }
   ],
   "source": [
    "def ResBlock_a(x, filters, dilation_list, kernel_size=3, padding=\"same\", stride=1\n",
    "    ):\n",
    "        output = [x]\n",
    "        for d in dilation_list:\n",
    "            x_ = kl.BatchNormalization(axis=-1)(x)\n",
    "            x_ = kl.Activation(\"relu\")(x_)\n",
    "            x_ = kl.Conv2D(\n",
    "                filters,\n",
    "                kernel_size=kernel_size,\n",
    "                padding=padding,\n",
    "                strides=stride,\n",
    "                dilation_rate=d,\n",
    "            )(x_)\n",
    "            x_ = kl.BatchNormalization(axis=-1)(x_)\n",
    "            x_ = kl.Activation(\"relu\")(x_)\n",
    "            x_ = kl.Conv2D(\n",
    "                filters,\n",
    "                kernel_size=kernel_size,\n",
    "                padding=padding,\n",
    "                strides=stride,\n",
    "                dilation_rate=d,\n",
    "            )(x_)\n",
    "            output.append(x_)\n",
    "        output = tf.stack(output, axis=0)\n",
    "        return tf.math.reduce_sum(output, axis = 0 )\n",
    "\n",
    "x = tf.random.uniform((32,256,256,32))\n",
    "y = ResBlock_a(x,32,[1,3,15,31])\n",
    "y.shape"
   ]
  },
  {
   "cell_type": "code",
   "execution_count": 54,
   "metadata": {},
   "outputs": [
    {
     "name": "stdout",
     "output_type": "stream",
     "text": [
      "(32, 256, 256, 32)\n",
      "(32, 256, 256, 32)\n",
      "(32, 128, 128, 64)\n",
      "(32, 64, 64, 128)\n",
      "(32, 32, 32, 256)\n",
      "(32, 16, 16, 512)\n",
      "(32, 8, 8, 1024)\n"
     ]
    }
   ],
   "source": [
    "\n",
    "def down_part(x):\n",
    "\n",
    "        x = kl.Conv2D(32, 1, padding=\"same\")(x)\n",
    "\n",
    "        u1 = ResBlock_a(x, 32, [1, 3, 15, 31])\n",
    "\n",
    "        u2 = kl.Conv2D(64, 1, padding=\"same\", strides=2)(u1)\n",
    "        u2 = ResBlock_a(u2, 64, [1, 3, 15, 31])\n",
    "\n",
    "        u3 = kl.Conv2D(128, 1, padding=\"same\", strides=2)(u2)\n",
    "        u3 = ResBlock_a(u3, 128, [1, 3, 15])\n",
    "\n",
    "        u4 = kl.Conv2D(256, 1,padding=\"same\", strides=2)(u3)\n",
    "        u4 = ResBlock_a(u4, 256, [1, 3, 15])\n",
    "\n",
    "        u5 = kl.Conv2D(512, 1, padding=\"same\", strides=2)(u4)\n",
    "        u5 = ResBlock_a(u5, 512, [1])\n",
    "\n",
    "        u6 = kl.Conv2D(1024, 1, padding=\"same\", strides=2)(u5)\n",
    "        u6 = ResBlock_a(u6, 1024, [1])\n",
    "\n",
    "        return x, u1, u2, u3, u4, u5, u6\n",
    "\n",
    "x = tf.random.uniform((32,256,256,3))\n",
    "\n",
    "l = down_part(x)\n",
    "for elem in l :\n",
    "        print(elem.shape)"
   ]
  }
 ],
 "metadata": {
  "kernelspec": {
   "display_name": "Python 3.9.12 ('kaggle_env')",
   "language": "python",
   "name": "python3"
  },
  "language_info": {
   "codemirror_mode": {
    "name": "ipython",
    "version": 3
   },
   "file_extension": ".py",
   "mimetype": "text/x-python",
   "name": "python",
   "nbconvert_exporter": "python",
   "pygments_lexer": "ipython3",
   "version": "3.9.12"
  },
  "orig_nbformat": 4,
  "vscode": {
   "interpreter": {
    "hash": "374f00bad58e56e7021dc590d19409be27e903bd93b63dc55f68431e2c28e6dd"
   }
  }
 },
 "nbformat": 4,
 "nbformat_minor": 2
}
