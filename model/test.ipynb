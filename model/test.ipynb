{
 "cells": [
  {
   "cell_type": "code",
   "execution_count": 3,
   "metadata": {},
   "outputs": [],
   "source": [
    "from diffusers import StableDiffusionPipeline\n",
    "import torch\n",
    "import matplotlib.pyplot as plt"
   ]
  },
  {
   "cell_type": "code",
   "execution_count": 4,
   "metadata": {},
   "outputs": [
    {
     "name": "stderr",
     "output_type": "stream",
     "text": [
      "Downloading (…)ain/model_index.json: 100%|██████████| 582/582 [00:00<00:00, 60.1kB/s]\n",
      "Downloading (…)_encoder/config.json: 100%|██████████| 661/661 [00:00<00:00, 214kB/s]\n",
      "Downloading (…)cheduler_config.json: 100%|██████████| 346/346 [00:00<00:00, 116kB/s]\n",
      "Downloading (…)_checker/config.json: 100%|██████████| 4.90k/4.90k [00:00<00:00, 1.28MB/s]\n",
      "Downloading (…)cial_tokens_map.json: 100%|██████████| 472/472 [00:00<00:00, 150kB/s]\n",
      "Downloading (…)rocessor_config.json: 100%|██████████| 518/518 [00:00<00:00, 129kB/s]\n",
      "Fetching 15 files:   7%|▋         | 1/15 [00:01<00:16,  1.17s/it]\n",
      "\u001b[A\n",
      "\n",
      "\u001b[A\u001b[A\n",
      "\n",
      "\n",
      "Downloading (…)e962/vae/config.json: 100%|██████████| 674/674 [00:00<00:00, 84.7kB/s]\n",
      "\n",
      "\n",
      "\n",
      "Downloading (…)okenizer_config.json: 100%|██████████| 852/852 [00:00<00:00, 249kB/s]\n",
      "\n",
      "\n",
      "\n",
      "\u001b[A\u001b[A\u001b[A\n",
      "\n",
      "\n",
      "\n",
      "Downloading (…)962/unet/config.json: 100%|██████████| 1.11k/1.11k [00:00<00:00, 141kB/s]\n",
      "\n",
      "\n",
      "\n",
      "\n",
      "\u001b[A\u001b[A\u001b[A\u001b[A\n",
      "\n",
      "\n",
      "\n",
      "\n",
      "\u001b[A\u001b[A\u001b[A\u001b[A\u001b[A\n",
      "\n",
      "\n",
      "\u001b[A\u001b[A\u001b[A\n",
      "\n",
      "\n",
      "\u001b[A\u001b[A\u001b[A\n",
      "\u001b[A\n",
      "\n",
      "\u001b[A\u001b[A\n",
      "\n",
      "\u001b[A\u001b[A\n",
      "\u001b[A\n",
      "\n",
      "\n",
      "\u001b[A\u001b[A\u001b[A\n",
      "\u001b[A\n",
      "\n",
      "\u001b[A\u001b[A\n",
      "\n",
      "\n",
      "\u001b[A\u001b[A\u001b[A\n",
      "\n",
      "\n",
      "Fetching 15 files:  20%|██        | 3/15 [01:12<04:48, 24.01s/it]\n",
      "\n",
      "\n",
      "\u001b[A\u001b[A\n",
      "\u001b[A\n",
      "\u001b[A\n",
      "\n",
      "\n",
      "\u001b[A\u001b[A\u001b[A\n",
      "\u001b[A\n",
      "\n",
      "\u001b[A\u001b[A\n",
      "\u001b[A\n",
      "\u001b[A\n",
      "\n",
      "\u001b[A\u001b[A\n",
      "\n",
      "\n",
      "\u001b[A\u001b[A\u001b[A\n",
      "\n",
      "\u001b[A\u001b[A\n",
      "\u001b[A\n",
      "\n",
      "\n",
      "\u001b[A\u001b[A\u001b[A\n",
      "\n",
      "\u001b[A\u001b[A\n",
      "\u001b[A"
     ]
    }
   ],
   "source": [
    "\n",
    "pipeline = StableDiffusionPipeline.from_pretrained(\"MohamedRashad/diffusion_fashion\", torch_dtype=torch.float16)\n",
    "#pipeline.to(\"cuda\")\n",
    "\n",
    "prompt = \"A photo of a dress, made in 2019, color is Red, Casual usage, Women's cloth, something for the summer season, on white background\"\n",
    "images = pipeline(prompt).images[0]\n",
    "plt.imshow(images.permute(1, 2, 0))"
   ]
  }
 ],
 "metadata": {
  "kernelspec": {
   "display_name": "hugginface_env",
   "language": "python",
   "name": "python3"
  },
  "language_info": {
   "codemirror_mode": {
    "name": "ipython",
    "version": 3
   },
   "file_extension": ".py",
   "mimetype": "text/x-python",
   "name": "python",
   "nbconvert_exporter": "python",
   "pygments_lexer": "ipython3",
   "version": "3.9.15"
  },
  "orig_nbformat": 4,
  "vscode": {
   "interpreter": {
    "hash": "84f342ec31c22c66698ab2d3e7e1bc81eb18d4066c64b9d1356118a074cba4d8"
   }
  }
 },
 "nbformat": 4,
 "nbformat_minor": 2
}
