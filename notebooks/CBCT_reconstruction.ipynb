{
 "cells": [
  {
   "cell_type": "code",
   "execution_count": 4,
   "metadata": {},
   "outputs": [],
   "source": [
    "import numpy as np\n",
    "import astra\n",
    "import numpy as np\n",
    "from os import mkdir\n",
    "from os.path import join, isdir\n",
    "from imageio import imread, imwrite\n",
    "from glob import glob\n",
    "import sys, os\n",
    "import re\n",
    "sys.path.append(os.path.abspath('..'))\n",
    "from data_file.CBCT_preprocess import read_raw"
   ]
  },
  {
   "cell_type": "code",
   "execution_count": null,
   "metadata": {},
   "outputs": [],
   "source": [
    "test_path = \"../data/no_metal/acquisition_1/\"\n",
    "test_folder = sorted(glob(join(test_path, \"*.raw\")),key=lambda x: [int(c) if c.isdigit() else c for c in re.split(r\"(\\d+)\", x)])"
   ]
  },
  {
   "cell_type": "code",
   "execution_count": 6,
   "metadata": {},
   "outputs": [],
   "source": [
    "distance_source_origin = 300  # [mm]\n",
    "distance_origin_detector = 100  # [mm]\n",
    "detector_pixel_size = 0.085  # [mm]\n",
    "detector_rows = 588  # Vertical size of detector [pixels].\n",
    "detector_cols = 588  # Horizontal size of detector [pixels].\n",
    "num_of_projections = len(test_folder)  # Number of files in the different acquisition folders\n",
    "angles = np.linspace(0, 2 * np.pi, num=num_of_projections, endpoint=False)"
   ]
  },
  {
   "cell_type": "code",
   "execution_count": null,
   "metadata": {},
   "outputs": [],
   "source": [
    "projections = np.zeros((detector_rows, num_of_projections, detector_cols))\n",
    "for i in range(num_of_projections):\n",
    "    im = read_raw(test_folder[i], image_size = (detector_rows, detector_cols))\n",
    "    im.shape\n",
    "    im = im/np.max(im)\n",
    "    projections[:, i, :] = im"
   ]
  },
  {
   "cell_type": "code",
   "execution_count": 8,
   "metadata": {},
   "outputs": [],
   "source": [
    "proj_geom = \\\n",
    "  astra.create_proj_geom('cone', 1, 1, detector_rows, detector_cols, angles,\n",
    "                         (distance_source_origin + distance_origin_detector) /\n",
    "                         detector_pixel_size, 0)\n",
    "projections_id = astra.data3d.create('-sino', proj_geom, projections)"
   ]
  },
  {
   "cell_type": "code",
   "execution_count": 9,
   "metadata": {},
   "outputs": [
    {
     "ename": "",
     "evalue": "",
     "output_type": "error",
     "traceback": [
      "\u001b[1;31mCanceled future for execute_request message before replies were done"
     ]
    },
    {
     "ename": "",
     "evalue": "",
     "output_type": "error",
     "traceback": [
      "\u001b[1;31mThe Kernel crashed while executing code in the the current cell or a previous cell. Please review the code in the cell(s) to identify a possible cause of the failure. Click <a href='https://aka.ms/vscodeJupyterKernelCrash'>here</a> for more info. View Jupyter <a href='command:jupyter.viewOutput'>log</a> for further details."
     ]
    }
   ],
   "source": [
    "vol_geom = astra.creators.create_vol_geom(detector_cols, detector_cols,\n",
    "                                          detector_rows)\n",
    "reconstruction_id = astra.data3d.create('-vol', vol_geom, data=0)\n",
    "alg_cfg = astra.astra_dict('FDK_CUDA')\n",
    "alg_cfg['ProjectionDataId'] = projections_id\n",
    "alg_cfg['ReconstructionDataId'] = reconstruction_id\n",
    "algorithm_id = astra.algorithm.create(alg_cfg)\n",
    "astra.algorithm.run(algorithm_id)\n",
    "reconstruction = astra.data3d.get(reconstruction_id)\n",
    "\n",
    "# Need a GPU for that"
   ]
  }
 ],
 "metadata": {
  "kernelspec": {
   "display_name": "artefact",
   "language": "python",
   "name": "python3"
  },
  "language_info": {
   "codemirror_mode": {
    "name": "ipython",
    "version": 3
   },
   "file_extension": ".py",
   "mimetype": "text/x-python",
   "name": "python",
   "nbconvert_exporter": "python",
   "pygments_lexer": "ipython3",
   "version": "3.9.15"
  },
  "orig_nbformat": 4,
  "vscode": {
   "interpreter": {
    "hash": "54fa7a49080bc8ac680f82d94a830c32d647e56a02977aefaa365311eb0328b3"
   }
  }
 },
 "nbformat": 4,
 "nbformat_minor": 2
}
